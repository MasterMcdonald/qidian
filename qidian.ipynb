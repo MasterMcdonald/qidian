{
 "cells": [
  {
   "cell_type": "code",
   "execution_count": 2,
   "metadata": {},
   "outputs": [
    {
     "name": "stdout",
     "output_type": "stream",
     "text": [
      "Requirement already satisfied: selenium in d:\\anaconda\\lib\\site-packages (3.141.0)\n",
      "Requirement already satisfied: urllib3 in d:\\anaconda\\lib\\site-packages (from selenium) (1.24.2)\n",
      "Requirement already satisfied: baidu_aip in d:\\anaconda\\lib\\site-packages (2.2.18.0)\n",
      "Requirement already satisfied: requests in d:\\anaconda\\lib\\site-packages (from baidu_aip) (2.22.0)\n",
      "Requirement already satisfied: chardet<3.1.0,>=3.0.2 in d:\\anaconda\\lib\\site-packages (from requests->baidu_aip) (3.0.4)\n",
      "Requirement already satisfied: urllib3!=1.25.0,!=1.25.1,<1.26,>=1.21.1 in d:\\anaconda\\lib\\site-packages (from requests->baidu_aip) (1.24.2)\n",
      "Requirement already satisfied: idna<2.9,>=2.5 in d:\\anaconda\\lib\\site-packages (from requests->baidu_aip) (2.8)\n",
      "Requirement already satisfied: certifi>=2017.4.17 in d:\\anaconda\\lib\\site-packages (from requests->baidu_aip) (2019.9.11)\n",
      "Requirement already satisfied: pillow in d:\\anaconda\\lib\\site-packages (6.2.0)\n"
     ]
    }
   ],
   "source": [
    "!pip install selenium\n",
    "!pip install baidu_aip\n",
    "!pip install pillow"
   ]
  },
  {
   "cell_type": "code",
   "execution_count": 3,
   "metadata": {},
   "outputs": [],
   "source": [
    "from selenium import webdriver\n",
    "import matplotlib.pyplot as plt\n",
    "import cv2\n",
    "from PIL import Image\n",
    "from aip import AipImageClassify, AipOcr\n",
    "import re\n",
    "\n",
    "from requests_html import HTMLSession\n",
    "import requests\n",
    "import time\n",
    "\n",
    "session = HTMLSession()"
   ]
  },
  {
   "cell_type": "markdown",
   "metadata": {},
   "source": [
    "# processOn网站 登录，自动连续下载测试"
   ]
  },
  {
   "cell_type": "code",
   "execution_count": 35,
   "metadata": {},
   "outputs": [],
   "source": [
    "\"\"\"连接网站\"\"\"\n",
    "def open_url(url, silence=False):\n",
    "    r = session.get(url)                                                                #连接网站\n",
    "    \"\"\"设置下载路径\"\"\"\n",
    "    options = webdriver.ChromeOptions() \n",
    "    direct = {'download.default_directory': 'C:\\\\Users\\zelan\\Desktop\\网页数据抓取\\下载测试'}     #更改下载默认地址为XXXX\n",
    "    options.add_experimental_option('prefs', direct)\n",
    "    if silence:\n",
    "        options .add_argument('-headless')\n",
    "    \"\"\"打开浏览器\"\"\"\n",
    "    browser = webdriver.Chrome(options=options)                                        #Chrome驱动\n",
    "    browser.get(url)                                                                   #打开网页\n",
    "    return browser\n",
    "\n",
    "\"\"\"自动输入并登录\"\"\"\n",
    "def auto_login(browser, id_user_name, id_password, user_name, password)\n",
    "    browser.find_element_by_id(id_user_name).clear()                          #清空输入框\n",
    "    browser.find_element_by_id(id_password).clear()                           #清空输入框\n",
    "    browser.find_element_by_id(id_user_name).send_keys(user_name)             # 找到账号框并输入账号\n",
    "    browser.find_element_by_id(id_password).send_keys(password)               # 找到密码框并输入密码\n",
    "    browser.find_element_by_id('signin_btn').click()                          # 找到登陆按钮并点击\n",
    "    return browser\n",
    "\n",
    "\n",
    "\n",
    "\"\"\"在登陆后的界面干点啥\"\"\"\n",
    "def open_project(browser, xpath):\n",
    "    \n",
    "    \n",
    "    \n",
    "    \"\"\"打开标签页\"\"\"\n",
    "    browser.find_element_by_xpath(xpath).click()\n",
    "    \"\"\"定位新标签页\"\"\"\n",
    "    handles = browser.window_handles\n",
    "    browser.switch_to.window(handles[-1])\n",
    "    return browser\n",
    "\n",
    "\"\"\"下载为PDF\"\"\"\n",
    "def download_pdf(browser):\n",
    "    browser.find_element_by_xpath('//*[@id=\"menu_bar_file\"]').click()          #点击文件菜单\n",
    "    #time.sleep(0.5)\n",
    "    browser.find_element_by_xpath('//*[@id=\"bar_list_file\"]/li[4]').click()    #点击下载\n",
    "    #time.sleep(0.5)\n",
    "    browser.find_element_by_xpath('//*[@id=\"export_pdf\"]').click()             #点击pdf\n",
    "    #time.sleep(0.5)\n",
    "    browser.find_element_by_xpath('//*[@id=\"export_ok\"]').click()              #点击确定\n",
    "    return browser\n",
    "\n",
    "def process_on_main():\n",
    "    url = 'https://www.processon.com/login'\n",
    "    id_user_name = 'login_email'\n",
    "    id_password = 'login_password'\n",
    "    user_name = '****'\n",
    "    password = '****'\n",
    "\n",
    "    browser = open_url(url)\n",
    "    time.sleep(1)\n",
    "    browser = auto_login(browser, id_user_name, id_password, user_name, password)\n",
    "    time.sleep(1)\n",
    "    \n",
    "    xpath = '/html/body/div[2]/div[2]/div[%d]'\n",
    "    \"\"\"定位当前页（列表页）\"\"\"\n",
    "    windows = browser.current_window_handle\n",
    "    project_num = 2\n",
    "    while 1:\n",
    "        project_num+=1\n",
    "        try:\n",
    "            browser.switch_to.window(windows)\n",
    "            browser = open_project(browser, xpath%project_num)\n",
    "            time.sleep(1)\n",
    "            browser = download_pdf(browser)\n",
    "            time.sleep(1)\n",
    "            browser.close()\n",
    "            \n",
    "        except:\n",
    "            break\n",
    "    browser.switch_to.window(windows)\n",
    "    return browser\n",
    "\n",
    "def logout(browser):\n",
    "    browser.find_element_by_xpath('//*[@id=\"user-logo\"]').click()\n",
    "    browser.find_element_by_xpath('/html/body/ul/li[10]/a').click()\n",
    "\n",
    "    return browser"
   ]
  },
  {
   "cell_type": "code",
   "execution_count": 38,
   "metadata": {},
   "outputs": [],
   "source": [
    "\"\"\"打开，登录，下载\"\"\"\n",
    "session = HTMLSession()\n",
    "browser = process_on_main()\n",
    "#browser = logout(browser)"
   ]
  },
  {
   "cell_type": "code",
   "execution_count": 10,
   "metadata": {},
   "outputs": [],
   "source": [
    "\"\"\"关闭浏览器\"\"\"\n",
    "browser.quit()"
   ]
  },
  {
   "cell_type": "markdown",
   "metadata": {},
   "source": [
    "# 起点中文网 批量爬取文字测试"
   ]
  },
  {
   "cell_type": "code",
   "execution_count": 5,
   "metadata": {},
   "outputs": [],
   "source": [
    "#from requests_html import HTMLSession\n",
    "from selenium import webdriver\n",
    "from time import sleep\n",
    "from string import digits\n",
    "from os import path, makedirs,getcwd\n",
    "from selenium.common.exceptions import NoSuchElementException\n",
    "from tkinter import *\n",
    "from tkinter import ttk, filedialog\n",
    "#session = HTMLSession()"
   ]
  },
  {
   "cell_type": "code",
   "execution_count": 6,
   "metadata": {},
   "outputs": [
    {
     "name": "stderr",
     "output_type": "stream",
     "text": [
      "D:\\anaconda\\lib\\site-packages\\ipykernel_launcher.py:7: DeprecationWarning: use options instead of chrome_options\n",
      "  import sys\n"
     ]
    }
   ],
   "source": [
    "from selenium.webdriver.chrome.options import Options\n",
    "\n",
    "chrome_options = Options()\n",
    "chrome_options.add_argument('--no-sandbox')\n",
    "chrome_options.add_argument('--disable-dev-shm-usage')\n",
    "chrome_options.add_argument('--headless')\n",
    "browser = webdriver.Chrome(chrome_options=chrome_options)"
   ]
  },
  {
   "cell_type": "code",
   "execution_count": 34,
   "metadata": {},
   "outputs": [],
   "source": [
    "\"\"\"判断/建立文件夹\"\"\"\n",
    "def get_folder(book_path):\n",
    "    exist = path.exists(book_path)\n",
    "    if not exist:\n",
    "        makedirs(book_path)\n",
    "    return book_path\n",
    "\n",
    "\"\"\"判断文件是否存在\"\"\"\n",
    "def check_txt(text_path):\n",
    "    exist = path.exists(text_path)\n",
    "    return exist\n",
    "\n",
    "\n",
    "\"\"\"定位新标签页\"\"\"\n",
    "def loc_page(browser):\n",
    "    handles = browser.window_handles\n",
    "    browser.switch_to.window(handles[-1])\n",
    "    return browser\n",
    "\n",
    "\"\"\"获取内容\"\"\"\n",
    "def get_content(browser):\n",
    "    content = browser.find_element_by_class_name('j_readContent').text\n",
    "    charpter_name = browser.find_element_by_class_name('j_chapterName').text.rstrip(digits).replace('\\n','')\n",
    "    chapter_content = charpter_name + '\\n' + content\n",
    "    return charpter_name, chapter_content\n",
    "\n",
    "def open_book(browser, xpath, number):\n",
    "    browser.find_element_by_xpath(xpath).click()\n",
    "    \"\"\"定位新标签页\"\"\"\n",
    "    browser = loc_page(browser)\n",
    "    book_name = browser.find_element_by_xpath('/html/body/div/div[6]/div[1]/div[2]/h1/em').text\n",
    "    \"\"\"打开目录\"\"\"\n",
    "    menu_xpath = '//*[@id=\"j_catalogPage\"]'\n",
    "    browser.find_element_by_xpath(menu_xpath).click()\n",
    "    \"\"\"打开第一章\"\"\"\n",
    "    browser.find_element_by_xpath('//*[@id=\"j-catalogWrap\"]/div[2]/div/ul/li[1]/a').click()\n",
    "    \"\"\"定位新标签页\"\"\"\n",
    "    browser = loc_page(browser)\n",
    "    \"\"\"尝试关闭弹出的窗口\"\"\"\n",
    "    try:    \n",
    "        browser.find_element_by_xpath('//*[@id=\"j_closeGuide\"]').click()\n",
    "    except NoSuchElementException:\n",
    "        \n",
    "        pass\n",
    "    \n",
    "    folder_path = get_folder('小说/'+book_name)\n",
    "    while 1:\n",
    "        if number == 0:\n",
    "            break\n",
    "        number -= 1\n",
    "        \"\"\"获取本章内容\"\"\"\n",
    "        try:\n",
    "            charpter_name, charpter_content = get_content(browser)\n",
    "            \n",
    "        except NoSuchElementException:\n",
    "            \n",
    "            break\n",
    "        \"\"\"存入书目文件夹\"\"\"\n",
    "        \n",
    "        charpter_path = folder_path + '/%s.txt'%(charpter_name)\n",
    "        with open(charpter_path,\"w\") as f:\n",
    "            charpter.write(charpter_content)        \n",
    "            charpter.close()\n",
    "        \n",
    "        #print(book_name +' '+ charpter_name)\n",
    "        \"\"\"跳转下一页\"\"\"\n",
    "        browser.find_element_by_id('j_chapterNext').click()\n",
    "    \"\"\"关闭章节标签页\"\"\"\n",
    "    browser.close()\n",
    "    \n",
    "    return loc_page(browser)\n",
    "\n",
    "\"\"\"打开第X本书的X页\"\"\"\n",
    "def read_X_chapter(browser, windows, book_num, chapt_num):\n",
    "    \"\"\"跳转列表页\"\"\"\n",
    "    browser.switch_to.window(windows)\n",
    "    \"\"\"找到第一个作品xpath\"\"\"\n",
    "    O_xpath = '//*[@id=\"free-channel-wrap\"]/div/div/div[2]/div[2]/div/ul/li[%d]/div[1]/a'\n",
    "    xpath = O_xpath%book_num\n",
    "    \"\"\"打开第一个作品\"\"\"\n",
    "    browser = open_book(browser, xpath, chapt_num)\n",
    "    browser.close()\n",
    "    \n",
    "\"\"\"打开免费作品列表\"\"\"\n",
    "def open_free_page(browser):\n",
    "    \"\"\"打开免费小说\"\"\"\n",
    "    browser.find_element_by_xpath('/html/body/div[1]/div[4]/div/ul/li[5]/a').click()\n",
    "\n",
    "    \"\"\"打开免费作品\"\"\"\n",
    "    browser.find_element_by_xpath('//*[@id=\"free-type-tab\"]/ul/li[2]').click()\n",
    "    return browser\n",
    "    \n",
    "\"\"\"连接网站\"\"\"\n",
    "def open_url(url, silence=False):\n",
    "    #r = session.get(url)                                                                #连接网站\n",
    "    \"\"\"设置下载路径\"\"\"\n",
    "    options = webdriver.ChromeOptions() \n",
    "    direct = {'download.default_directory': 'C:\\\\Users\\zelan\\Desktop\\小说抓取\\小说'}     #更改下载默认地址为XXXX\n",
    "    options.add_experimental_option('prefs', direct)\n",
    "    if silence:\n",
    "        options .add_argument('-headless')\n",
    "    \"\"\"打开浏览器\"\"\"\n",
    "    browser = webdriver.Chrome(options=options)                                        #Chrome驱动\n",
    "    browser.get(url)                                                                   #打开网页\n",
    "    return browser"
   ]
  },
  {
   "cell_type": "code",
   "execution_count": 35,
   "metadata": {},
   "outputs": [],
   "source": [
    "\"\"\"进度条\"\"\"\n",
    "def progress_bar(i, book_num):\n",
    "    sleep(0.01)\n",
    "    v = int(100/book_num)\n",
    "    for k in range(v):\n",
    "        sleep(0.1)\n",
    "        process = \"\\r[%3s%%]: |%-50s\" % (k+1+i*v, '█' * (int(k+1+i*v)//2))\n",
    "        if i == (book_num-1) and k == v-1:\n",
    "            process = \"\\r[Done]: |%-50s\" % ('█' * 50)\n",
    "        print(process, end='', flush=True)    \n",
    "    \n",
    "\"\"\"打开起点\"\"\"\n",
    "def get_novel_qidian(book_num, charpter_num):\n",
    "    url = 'https://www.qidian.com'\n",
    "    browser = open_url(url, silence=False)\n",
    "    \"\"\"打开免费作品列表\"\"\"\n",
    "    browser = open_free_page(browser)\n",
    "    windows = browser.current_window_handle\n",
    "    \"\"\"开始下载\"\"\"\n",
    "    \n",
    "    for i in range(1,book_num+1):\n",
    "        read_X_chapter(browser, windows, i, charpter_num)\n",
    "        \"\"\"进度条\"\"\"\n",
    "        progress_bar(i, book_num)\n",
    "\n",
    "    \"\"\"关闭浏览器\"\"\"\n",
    "    browser.quit()\n",
    "\n",
    " "
   ]
  },
  {
   "cell_type": "code",
   "execution_count": 36,
   "metadata": {},
   "outputs": [
    {
     "name": "stdout",
     "output_type": "stream",
     "text": [
      "[ 90%]: |█████████████████████████████████████████████     "
     ]
    },
    {
     "ename": "WebDriverException",
     "evalue": "Message: chrome not reachable\n  (Session info: chrome=87.0.4280.141)\n",
     "output_type": "error",
     "traceback": [
      "\u001b[1;31m---------------------------------------------------------------------------\u001b[0m",
      "\u001b[1;31mWebDriverException\u001b[0m                        Traceback (most recent call last)",
      "\u001b[1;32m<ipython-input-36-fdcd7dda1c63>\u001b[0m in \u001b[0;36m<module>\u001b[1;34m\u001b[0m\n\u001b[0;32m      1\u001b[0m \u001b[0mbook_num\u001b[0m \u001b[1;33m=\u001b[0m \u001b[1;36m10\u001b[0m\u001b[1;33m\u001b[0m\u001b[1;33m\u001b[0m\u001b[0m\n\u001b[0;32m      2\u001b[0m \u001b[0mcharpter_num\u001b[0m \u001b[1;33m=\u001b[0m \u001b[1;36m1\u001b[0m \u001b[1;31m#所有章节\u001b[0m\u001b[1;33m\u001b[0m\u001b[1;33m\u001b[0m\u001b[0m\n\u001b[1;32m----> 3\u001b[1;33m \u001b[0mget_novel_qidian\u001b[0m\u001b[1;33m(\u001b[0m\u001b[0mint\u001b[0m\u001b[1;33m(\u001b[0m\u001b[0mbook_num\u001b[0m\u001b[1;33m)\u001b[0m\u001b[1;33m,\u001b[0m \u001b[0mcharpter_num\u001b[0m\u001b[1;33m)\u001b[0m\u001b[1;33m\u001b[0m\u001b[1;33m\u001b[0m\u001b[0m\n\u001b[0m",
      "\u001b[1;32m<ipython-input-35-a54f5bc57d7c>\u001b[0m in \u001b[0;36mget_novel_qidian\u001b[1;34m(book_num, charpter_num)\u001b[0m\n\u001b[0;32m     20\u001b[0m \u001b[1;33m\u001b[0m\u001b[0m\n\u001b[0;32m     21\u001b[0m     \u001b[1;32mfor\u001b[0m \u001b[0mi\u001b[0m \u001b[1;32min\u001b[0m \u001b[0mrange\u001b[0m\u001b[1;33m(\u001b[0m\u001b[1;36m1\u001b[0m\u001b[1;33m,\u001b[0m\u001b[0mbook_num\u001b[0m\u001b[1;33m+\u001b[0m\u001b[1;36m1\u001b[0m\u001b[1;33m)\u001b[0m\u001b[1;33m:\u001b[0m\u001b[1;33m\u001b[0m\u001b[1;33m\u001b[0m\u001b[0m\n\u001b[1;32m---> 22\u001b[1;33m         \u001b[0mread_X_chapter\u001b[0m\u001b[1;33m(\u001b[0m\u001b[0mbrowser\u001b[0m\u001b[1;33m,\u001b[0m \u001b[0mwindows\u001b[0m\u001b[1;33m,\u001b[0m \u001b[0mi\u001b[0m\u001b[1;33m,\u001b[0m \u001b[0mcharpter_num\u001b[0m\u001b[1;33m)\u001b[0m\u001b[1;33m\u001b[0m\u001b[1;33m\u001b[0m\u001b[0m\n\u001b[0m\u001b[0;32m     23\u001b[0m         \u001b[1;34m\"\"\"进度条\"\"\"\u001b[0m\u001b[1;33m\u001b[0m\u001b[1;33m\u001b[0m\u001b[0m\n\u001b[0;32m     24\u001b[0m         \u001b[0mprogress_bar\u001b[0m\u001b[1;33m(\u001b[0m\u001b[0mi\u001b[0m\u001b[1;33m,\u001b[0m \u001b[0mbook_num\u001b[0m\u001b[1;33m)\u001b[0m\u001b[1;33m\u001b[0m\u001b[1;33m\u001b[0m\u001b[0m\n",
      "\u001b[1;32m<ipython-input-34-a13454d25461>\u001b[0m in \u001b[0;36mread_X_chapter\u001b[1;34m(browser, windows, book_num, chapt_num)\u001b[0m\n\u001b[0;32m     79\u001b[0m     \u001b[0mxpath\u001b[0m \u001b[1;33m=\u001b[0m \u001b[0mO_xpath\u001b[0m\u001b[1;33m%\u001b[0m\u001b[0mbook_num\u001b[0m\u001b[1;33m\u001b[0m\u001b[1;33m\u001b[0m\u001b[0m\n\u001b[0;32m     80\u001b[0m     \u001b[1;34m\"\"\"打开第一个作品\"\"\"\u001b[0m\u001b[1;33m\u001b[0m\u001b[1;33m\u001b[0m\u001b[0m\n\u001b[1;32m---> 81\u001b[1;33m     \u001b[0mbrowser\u001b[0m \u001b[1;33m=\u001b[0m \u001b[0mopen_book\u001b[0m\u001b[1;33m(\u001b[0m\u001b[0mbrowser\u001b[0m\u001b[1;33m,\u001b[0m \u001b[0mxpath\u001b[0m\u001b[1;33m,\u001b[0m \u001b[0mchapt_num\u001b[0m\u001b[1;33m)\u001b[0m\u001b[1;33m\u001b[0m\u001b[1;33m\u001b[0m\u001b[0m\n\u001b[0m\u001b[0;32m     82\u001b[0m     \u001b[0mbrowser\u001b[0m\u001b[1;33m.\u001b[0m\u001b[0mclose\u001b[0m\u001b[1;33m(\u001b[0m\u001b[1;33m)\u001b[0m\u001b[1;33m\u001b[0m\u001b[1;33m\u001b[0m\u001b[0m\n\u001b[0;32m     83\u001b[0m \u001b[1;33m\u001b[0m\u001b[0m\n",
      "\u001b[1;32m<ipython-input-34-a13454d25461>\u001b[0m in \u001b[0;36mopen_book\u001b[1;34m(browser, xpath, number)\u001b[0m\n\u001b[0;32m     29\u001b[0m     \u001b[1;34m\"\"\"定位新标签页\"\"\"\u001b[0m\u001b[1;33m\u001b[0m\u001b[1;33m\u001b[0m\u001b[0m\n\u001b[0;32m     30\u001b[0m     \u001b[0mbrowser\u001b[0m \u001b[1;33m=\u001b[0m \u001b[0mloc_page\u001b[0m\u001b[1;33m(\u001b[0m\u001b[0mbrowser\u001b[0m\u001b[1;33m)\u001b[0m\u001b[1;33m\u001b[0m\u001b[1;33m\u001b[0m\u001b[0m\n\u001b[1;32m---> 31\u001b[1;33m     \u001b[0mbook_name\u001b[0m \u001b[1;33m=\u001b[0m \u001b[0mbrowser\u001b[0m\u001b[1;33m.\u001b[0m\u001b[0mfind_element_by_xpath\u001b[0m\u001b[1;33m(\u001b[0m\u001b[1;34m'/html/body/div/div[6]/div[1]/div[2]/h1/em'\u001b[0m\u001b[1;33m)\u001b[0m\u001b[1;33m.\u001b[0m\u001b[0mtext\u001b[0m\u001b[1;33m\u001b[0m\u001b[1;33m\u001b[0m\u001b[0m\n\u001b[0m\u001b[0;32m     32\u001b[0m     \u001b[1;34m\"\"\"打开目录\"\"\"\u001b[0m\u001b[1;33m\u001b[0m\u001b[1;33m\u001b[0m\u001b[0m\n\u001b[0;32m     33\u001b[0m     \u001b[0mmenu_xpath\u001b[0m \u001b[1;33m=\u001b[0m \u001b[1;34m'//*[@id=\"j_catalogPage\"]'\u001b[0m\u001b[1;33m\u001b[0m\u001b[1;33m\u001b[0m\u001b[0m\n",
      "\u001b[1;32mD:\\anaconda\\lib\\site-packages\\selenium\\webdriver\\remote\\webdriver.py\u001b[0m in \u001b[0;36mfind_element_by_xpath\u001b[1;34m(self, xpath)\u001b[0m\n\u001b[0;32m    392\u001b[0m             \u001b[0melement\u001b[0m \u001b[1;33m=\u001b[0m \u001b[0mdriver\u001b[0m\u001b[1;33m.\u001b[0m\u001b[0mfind_element_by_xpath\u001b[0m\u001b[1;33m(\u001b[0m\u001b[1;34m'//div/td[1]'\u001b[0m\u001b[1;33m)\u001b[0m\u001b[1;33m\u001b[0m\u001b[1;33m\u001b[0m\u001b[0m\n\u001b[0;32m    393\u001b[0m         \"\"\"\n\u001b[1;32m--> 394\u001b[1;33m         \u001b[1;32mreturn\u001b[0m \u001b[0mself\u001b[0m\u001b[1;33m.\u001b[0m\u001b[0mfind_element\u001b[0m\u001b[1;33m(\u001b[0m\u001b[0mby\u001b[0m\u001b[1;33m=\u001b[0m\u001b[0mBy\u001b[0m\u001b[1;33m.\u001b[0m\u001b[0mXPATH\u001b[0m\u001b[1;33m,\u001b[0m \u001b[0mvalue\u001b[0m\u001b[1;33m=\u001b[0m\u001b[0mxpath\u001b[0m\u001b[1;33m)\u001b[0m\u001b[1;33m\u001b[0m\u001b[1;33m\u001b[0m\u001b[0m\n\u001b[0m\u001b[0;32m    395\u001b[0m \u001b[1;33m\u001b[0m\u001b[0m\n\u001b[0;32m    396\u001b[0m     \u001b[1;32mdef\u001b[0m \u001b[0mfind_elements_by_xpath\u001b[0m\u001b[1;33m(\u001b[0m\u001b[0mself\u001b[0m\u001b[1;33m,\u001b[0m \u001b[0mxpath\u001b[0m\u001b[1;33m)\u001b[0m\u001b[1;33m:\u001b[0m\u001b[1;33m\u001b[0m\u001b[1;33m\u001b[0m\u001b[0m\n",
      "\u001b[1;32mD:\\anaconda\\lib\\site-packages\\selenium\\webdriver\\remote\\webdriver.py\u001b[0m in \u001b[0;36mfind_element\u001b[1;34m(self, by, value)\u001b[0m\n\u001b[0;32m    976\u001b[0m         return self.execute(Command.FIND_ELEMENT, {\n\u001b[0;32m    977\u001b[0m             \u001b[1;34m'using'\u001b[0m\u001b[1;33m:\u001b[0m \u001b[0mby\u001b[0m\u001b[1;33m,\u001b[0m\u001b[1;33m\u001b[0m\u001b[1;33m\u001b[0m\u001b[0m\n\u001b[1;32m--> 978\u001b[1;33m             'value': value})['value']\n\u001b[0m\u001b[0;32m    979\u001b[0m \u001b[1;33m\u001b[0m\u001b[0m\n\u001b[0;32m    980\u001b[0m     \u001b[1;32mdef\u001b[0m \u001b[0mfind_elements\u001b[0m\u001b[1;33m(\u001b[0m\u001b[0mself\u001b[0m\u001b[1;33m,\u001b[0m \u001b[0mby\u001b[0m\u001b[1;33m=\u001b[0m\u001b[0mBy\u001b[0m\u001b[1;33m.\u001b[0m\u001b[0mID\u001b[0m\u001b[1;33m,\u001b[0m \u001b[0mvalue\u001b[0m\u001b[1;33m=\u001b[0m\u001b[1;32mNone\u001b[0m\u001b[1;33m)\u001b[0m\u001b[1;33m:\u001b[0m\u001b[1;33m\u001b[0m\u001b[1;33m\u001b[0m\u001b[0m\n",
      "\u001b[1;32mD:\\anaconda\\lib\\site-packages\\selenium\\webdriver\\remote\\webdriver.py\u001b[0m in \u001b[0;36mexecute\u001b[1;34m(self, driver_command, params)\u001b[0m\n\u001b[0;32m    319\u001b[0m         \u001b[0mresponse\u001b[0m \u001b[1;33m=\u001b[0m \u001b[0mself\u001b[0m\u001b[1;33m.\u001b[0m\u001b[0mcommand_executor\u001b[0m\u001b[1;33m.\u001b[0m\u001b[0mexecute\u001b[0m\u001b[1;33m(\u001b[0m\u001b[0mdriver_command\u001b[0m\u001b[1;33m,\u001b[0m \u001b[0mparams\u001b[0m\u001b[1;33m)\u001b[0m\u001b[1;33m\u001b[0m\u001b[1;33m\u001b[0m\u001b[0m\n\u001b[0;32m    320\u001b[0m         \u001b[1;32mif\u001b[0m \u001b[0mresponse\u001b[0m\u001b[1;33m:\u001b[0m\u001b[1;33m\u001b[0m\u001b[1;33m\u001b[0m\u001b[0m\n\u001b[1;32m--> 321\u001b[1;33m             \u001b[0mself\u001b[0m\u001b[1;33m.\u001b[0m\u001b[0merror_handler\u001b[0m\u001b[1;33m.\u001b[0m\u001b[0mcheck_response\u001b[0m\u001b[1;33m(\u001b[0m\u001b[0mresponse\u001b[0m\u001b[1;33m)\u001b[0m\u001b[1;33m\u001b[0m\u001b[1;33m\u001b[0m\u001b[0m\n\u001b[0m\u001b[0;32m    322\u001b[0m             response['value'] = self._unwrap_value(\n\u001b[0;32m    323\u001b[0m                 response.get('value', None))\n",
      "\u001b[1;32mD:\\anaconda\\lib\\site-packages\\selenium\\webdriver\\remote\\errorhandler.py\u001b[0m in \u001b[0;36mcheck_response\u001b[1;34m(self, response)\u001b[0m\n\u001b[0;32m    240\u001b[0m                 \u001b[0malert_text\u001b[0m \u001b[1;33m=\u001b[0m \u001b[0mvalue\u001b[0m\u001b[1;33m[\u001b[0m\u001b[1;34m'alert'\u001b[0m\u001b[1;33m]\u001b[0m\u001b[1;33m.\u001b[0m\u001b[0mget\u001b[0m\u001b[1;33m(\u001b[0m\u001b[1;34m'text'\u001b[0m\u001b[1;33m)\u001b[0m\u001b[1;33m\u001b[0m\u001b[1;33m\u001b[0m\u001b[0m\n\u001b[0;32m    241\u001b[0m             \u001b[1;32mraise\u001b[0m \u001b[0mexception_class\u001b[0m\u001b[1;33m(\u001b[0m\u001b[0mmessage\u001b[0m\u001b[1;33m,\u001b[0m \u001b[0mscreen\u001b[0m\u001b[1;33m,\u001b[0m \u001b[0mstacktrace\u001b[0m\u001b[1;33m,\u001b[0m \u001b[0malert_text\u001b[0m\u001b[1;33m)\u001b[0m\u001b[1;33m\u001b[0m\u001b[1;33m\u001b[0m\u001b[0m\n\u001b[1;32m--> 242\u001b[1;33m         \u001b[1;32mraise\u001b[0m \u001b[0mexception_class\u001b[0m\u001b[1;33m(\u001b[0m\u001b[0mmessage\u001b[0m\u001b[1;33m,\u001b[0m \u001b[0mscreen\u001b[0m\u001b[1;33m,\u001b[0m \u001b[0mstacktrace\u001b[0m\u001b[1;33m)\u001b[0m\u001b[1;33m\u001b[0m\u001b[1;33m\u001b[0m\u001b[0m\n\u001b[0m\u001b[0;32m    243\u001b[0m \u001b[1;33m\u001b[0m\u001b[0m\n\u001b[0;32m    244\u001b[0m     \u001b[1;32mdef\u001b[0m \u001b[0m_value_or_default\u001b[0m\u001b[1;33m(\u001b[0m\u001b[0mself\u001b[0m\u001b[1;33m,\u001b[0m \u001b[0mobj\u001b[0m\u001b[1;33m,\u001b[0m \u001b[0mkey\u001b[0m\u001b[1;33m,\u001b[0m \u001b[0mdefault\u001b[0m\u001b[1;33m)\u001b[0m\u001b[1;33m:\u001b[0m\u001b[1;33m\u001b[0m\u001b[1;33m\u001b[0m\u001b[0m\n",
      "\u001b[1;31mWebDriverException\u001b[0m: Message: chrome not reachable\n  (Session info: chrome=87.0.4280.141)\n"
     ]
    }
   ],
   "source": [
    "book_num = 10\n",
    "charpter_num = 1 #所有章节\n",
    "get_novel_qidian(int(book_num), charpter_num)"
   ]
  },
  {
   "cell_type": "markdown",
   "metadata": {},
   "source": [
    "## UI"
   ]
  },
  {
   "cell_type": "code",
   "execution_count": 11,
   "metadata": {},
   "outputs": [],
   "source": [
    "def search_book(book_name, book_num):\n",
    "    browser.find_element_by_xpath('//*[@id=\"s-box\"]').send_keys(book_name)\n",
    "    browser.find_element_by_xpath('//*[@id=\"search-btn\"]').click()\n",
    "    return loc_page(browser)\n",
    "\n",
    "\n",
    "\"\"\"进度条\"\"\"\n",
    "def UI_progress_bar(i, book_num):\n",
    "    sleep(0.01)\n",
    "    persent = (i+1) / book_num\n",
    "    v = int(100/book_num)\n",
    "    \n",
    "    for k in range(v):\n",
    "        VALUE3_BOX['value'] =  int(k+1+i*v)\n",
    "        ROOT.update()    \n",
    "        \n",
    "\n",
    "        \n",
    "\"\"\"UI打开起点\"\"\"\n",
    "def UI_get_novel_qidian(book_num, charpter_num, book_name):\n",
    "    url = 'https://www.qidian.com'\n",
    "    browser = open_url(url, silence=False)\n",
    "    \n",
    "    if book_name != '':\n",
    "        browser = search_book(book_name, book_num)\n",
    "        book_num = 1\n",
    "    \n",
    "    else:\n",
    "        \"\"\"打开免费作品列表\"\"\"\n",
    "        browser = open_free_page(browser)\n",
    "    windows = browser.current_window_handle\n",
    "    \"\"\"开始下载\"\"\"\n",
    "    for i in range(1,book_num+1):\n",
    "        read_X_chapter(browser, windows, i, charpter_num)\n",
    "        \"\"\"进度条\"\"\"\n",
    "        UI_progress_bar(i, book_num)\n",
    "\n",
    "    \"\"\"关闭浏览器\"\"\"\n",
    "    browser.quit()   \n",
    "    \n",
    "        \n",
    "\"\"\"开始\"\"\"\n",
    "def get_start(choise, book_num, book_name):\n",
    "    \"\"\"检查按钮状态\"\"\"\n",
    "    if INSERT_BUTTON['text']=='完成':\n",
    "        VALUE4_BOX['state'] = 'normal'\n",
    "        VALUE1_BOX['state'] = 'normal'\n",
    "        VALUE2_BOX['state'] = 'normal'\n",
    "        VALUE3_BOX['value'] =  0\n",
    "        INSERT_BUTTON['text']='开始'\n",
    "        ROOT.update()\n",
    "    elif INSERT_BUTTON['text']=='读取中':\n",
    "        pass\n",
    "    else:\n",
    "        \"\"\"确定网站\"\"\"\n",
    "        if choise == '起点中文网':\n",
    "            \"\"\"禁用输入框\"\"\"\n",
    "            VALUE4_BOX['state'] = 'disabled'\n",
    "            VALUE1_BOX['state'] = 'disabled'\n",
    "            VALUE2_BOX['state'] = 'disabled'\n",
    "            \n",
    "            \"\"\"开始读取并下载\"\"\"\n",
    "            \n",
    "            charpter_num = -1\n",
    "            INSERT_BUTTON['text']='读取中'\n",
    "            ROOT.update()\n",
    "            UI_get_novel_qidian(int(book_num), charpter_num, book_name)\n",
    "            INSERT_BUTTON['text']='完成'\n",
    "            ROOT.update()\n",
    "    "
   ]
  },
  {
   "cell_type": "code",
   "execution_count": null,
   "metadata": {},
   "outputs": [],
   "source": [
    "\n",
    "#GUI\n",
    "ROOT = Tk()\n",
    "\"\"\"标题\"\"\"\n",
    "ROOT.title('小说爬虫')\n",
    "\"\"\"界面大小\"\"\"\n",
    "ROOT.geometry()\n",
    "\"\"\"分区\"\"\"\n",
    "\"\"\"大区\"\"\"\n",
    "SUPERFRAME = Frame(ROOT, bd=25) #大区\n",
    "\"\"\"中区，上下分大区\"\"\"\n",
    "BIGFRAME1 = Frame(SUPERFRAME, bd=10) #中区1\n",
    "BIGFRAME2 = Frame(SUPERFRAME, bd=10) #中区2\n",
    "\"\"\"小区，上下分中区\"\"\"\n",
    "FRAME1 = Frame(BIGFRAME1, bd=10) #小区1\n",
    "FRAME2 = Frame(BIGFRAME1, bd=20) #小区2\n",
    "\n",
    "FRAME3 = Frame(BIGFRAME2, bd=10) #小区1\n",
    "FRAME4 = Frame(BIGFRAME2, bd=10) #小区2\n",
    "\n",
    "\"\"\"细区，分小区\"\"\"\n",
    "MINI_FRAME1 = Frame(FRAME1, bd=10)\n",
    "MINI_FRAME2 = Frame(FRAME1, bd=10)\n",
    "\n",
    "\"\"\"选择网站\"\"\"\n",
    "VALUE1_TEXT = Label(MINI_FRAME1, text='获取网站:')\n",
    "DEFAULT_VALUE = StringVar()\n",
    "VALUE1_BOX = ttk.Combobox(MINI_FRAME1,textvariable=DEFAULT_VALUE, width=27)\n",
    "VALUE1_BOX['value'] = ('起点中文网', '其他')\n",
    "VALUE1_BOX.current(0)\n",
    "\n",
    "VALUE1_TEXT.pack(side=LEFT)\n",
    "VALUE1_BOX.pack(side=RIGHT)\n",
    "\n",
    "\n",
    "\"\"\"输入书名\"\"\"\n",
    "VALUE4_TEXT = Label(MINI_FRAME2, text='搜索书名:')\n",
    "VALUE4_BOX = Entry(MINI_FRAME2)\n",
    "\n",
    "VALUE4_TEXT.pack(side=LEFT)\n",
    "VALUE4_BOX.pack(side=RIGHT)\n",
    "\n",
    "\n",
    "\n",
    "\"\"\"选择下载数量\"\"\"\n",
    "VALUE2_TEXT = Label(FRAME2, text='获取本数:')\n",
    "VALUE2_BOX = Spinbox(FRAME2,from_=0, to=1000, width=28)\n",
    "\n",
    "VALUE2_TEXT.pack(side=LEFT)\n",
    "VALUE2_BOX.pack(side=RIGHT)\n",
    "\n",
    "\n",
    "\n",
    "\"\"\"进度显示\"\"\"\n",
    "VALUE3_TEXT = Label(FRAME3, text='读取进度:', justify=LEFT)\n",
    "VALUE3_BOX = ttk.Progressbar(FRAME3, length = 210, value = 0, mode = 'determinate')\n",
    "\n",
    "\n",
    "VALUE3_TEXT.pack(side=LEFT)\n",
    "VALUE3_BOX.pack(side=RIGHT)\n",
    "VALUE3_BOX['maximum'] = 100\n",
    "VALUE3_BOX['value'] = 0\n",
    "\n",
    "\n",
    "\n",
    "INSERT_BUTTON = Button(FRAME4, text='开始', width=10, height=1,\n",
    "                       font=('microsoft yahei',10, 'bold'),\n",
    "                       command=lambda: get_start(VALUE1_BOX.get(), VALUE2_BOX.get(), VALUE4_BOX.get())\n",
    "                      )\n",
    "INSERT_BUTTON.pack()\n",
    "\n",
    "MINI_FRAME1.pack(side=TOP, fill='both')\n",
    "MINI_FRAME2.pack(side=BOTTOM, fill='both')\n",
    "FRAME3.pack(side=TOP, fill='both')\n",
    "FRAME4.pack(side=BOTTOM, fill='both')\n",
    "FRAME1.pack(side=TOP, fill='both')\n",
    "FRAME2.pack(side=BOTTOM, fill='both')\n",
    "BIGFRAME1.pack(side=TOP)\n",
    "BIGFRAME2.pack(side=BOTTOM)\n",
    "SUPERFRAME.pack()\n",
    "\n",
    "\n",
    "\n",
    "ROOT.mainloop()"
   ]
  },
  {
   "cell_type": "code",
   "execution_count": 55,
   "metadata": {},
   "outputs": [],
   "source": [
    "url = 'https://www.qidian.com'\n",
    "browser1 = webdriver.Chrome()                                        #Chrome驱动\n",
    "browser1.get(url)\n"
   ]
  },
  {
   "cell_type": "code",
   "execution_count": 56,
   "metadata": {},
   "outputs": [],
   "source": [
    "browser1.find_element_by_xpath('//*[@id=\"s-box\"]').send_keys('name')\n",
    "browser1.find_element_by_xpath('//*[@id=\"search-btn\"]').click()"
   ]
  },
  {
   "cell_type": "code",
   "execution_count": 8,
   "metadata": {},
   "outputs": [
    {
     "name": "stdout",
     "output_type": "stream",
     "text": [
      "[ 99%]: |██████████████████████████████████████████████████"
     ]
    }
   ],
   "source": [
    "\n",
    "v = int(100)\n",
    "for k in range(v):\n",
    "\n",
    "    process = \"\\r[%3s%%]: |%-50s\" % (k, '█' * (int(k+1)//2))\n",
    "    \n",
    "    print(process, end='', flush=True)   "
   ]
  },
  {
   "cell_type": "code",
   "execution_count": 9,
   "metadata": {},
   "outputs": [
    {
     "data": {
      "text/plain": [
       "1"
      ]
     },
     "execution_count": 9,
     "metadata": {},
     "output_type": "execute_result"
    }
   ],
   "source": [
    "2//2"
   ]
  },
  {
   "cell_type": "code",
   "execution_count": 10,
   "metadata": {},
   "outputs": [
    {
     "data": {
      "text/plain": [
       "1"
      ]
     },
     "execution_count": 10,
     "metadata": {},
     "output_type": "execute_result"
    }
   ],
   "source": [
    "3//2\n"
   ]
  },
  {
   "cell_type": "code",
   "execution_count": 11,
   "metadata": {},
   "outputs": [
    {
     "data": {
      "text/plain": [
       "2"
      ]
     },
     "execution_count": 11,
     "metadata": {},
     "output_type": "execute_result"
    }
   ],
   "source": [
    "5//2\n"
   ]
  },
  {
   "cell_type": "code",
   "execution_count": 50,
   "metadata": {},
   "outputs": [
    {
     "name": "stdout",
     "output_type": "stream",
     "text": [
      "C:/Users/zelan/OneDrive/文档/vc_pic2.png\n",
      "C:/Users/zelan/OneDrive/文档/vc_pic.png\n"
     ]
    }
   ],
   "source": [
    "from tkinter import *\n",
    "from tkinter import ttk, filedialog\n",
    "def video_path():\n",
    "    global video_file_path\n",
    "    f = filedialog.askopenfilename()\n",
    "\n",
    "    VALUE_BOX.insert(0,f) \n",
    "    ROOT.update() \n",
    "    video_file_path = VALUE_BOX.get()\n",
    "    \n",
    "def image_path():\n",
    "    global image_file_path\n",
    "    f = filedialog.askopenfilename()\n",
    "\n",
    "    VALUE_BOX2.insert(0,f) \n",
    "    ROOT.update() \n",
    "    image_file_path = VALUE_BOX2.get()\n",
    "\n",
    "video_file_path = ''\n",
    "image_file_path = ''\n",
    "#GUI\n",
    "ROOT = Tk()\n",
    "\"\"\"标题\"\"\"\n",
    "ROOT.title('小说爬虫')\n",
    "\"\"\"界面大小\"\"\"\n",
    "ROOT.geometry()\n",
    "\"\"\"分区\"\"\"\n",
    "\"\"\"大区\"\"\"\n",
    "SUPERFRAME = Frame(ROOT, bd=25) #大区\n",
    "SUPERFRAME2 = Frame(ROOT, bd=25) #大区\n",
    "\"\"\"中区，上下分大区\"\"\"\n",
    "BIGFRAME1 = Frame(SUPERFRAME, bd=10) #中区1\n",
    "BIGFRAME2 = Frame(SUPERFRAME, bd=10) #中区2\n",
    "\n",
    "VALUE_TEXT = Label(BIGFRAME1, text='video:')\n",
    "VALUE_BOX = Entry(BIGFRAME1)\n",
    "\n",
    "VALUE_TEXT.pack(side=LEFT)\n",
    "VALUE_BOX.pack(side=LEFT)\n",
    "INSERT_BUTTON = Button(BIGFRAME1, text='开始', width=10, height=1,\n",
    "                       font=('microsoft yahei',10, 'bold'),\n",
    "                       command=lambda: video_path()\n",
    "                      )\n",
    "INSERT_BUTTON.pack()\n",
    "\n",
    "VALUE_TEXT2 = Label(BIGFRAME2, text='image:')\n",
    "VALUE_BOX2 = Entry(BIGFRAME2)\n",
    "\n",
    "VALUE_TEXT2.pack(side=LEFT)\n",
    "VALUE_BOX2.pack(side=LEFT)\n",
    "INSERT_BUTTON2 = Button(BIGFRAME2, text='开始', width=10, height=1,\n",
    "                       font=('microsoft yahei',10, 'bold'),\n",
    "                       command=lambda: image_path()\n",
    "                      )\n",
    "INSERT_BUTTON2.pack()\n",
    "\n",
    "\n",
    "\n",
    "\n",
    "INSERT_BUTTON2 = Button(SUPERFRAME2, text='Close', width=10, height=1,\n",
    "                       font=('microsoft yahei',10, 'bold'),\n",
    "                       command=lambda: ROOT.destroy()\n",
    "                      )\n",
    "INSERT_BUTTON2.pack()\n",
    "BIGFRAME1.pack(side=TOP)\n",
    "BIGFRAME2.pack(side=BOTTOM)\n",
    "SUPERFRAME.pack(side=TOP)\n",
    "SUPERFRAME2.pack(side=BOTTOM)\n",
    "\n",
    "ROOT.mainloop()\n",
    "\n",
    "print (video_file_path)\n",
    "print (image_file_path)"
   ]
  },
  {
   "cell_type": "code",
   "execution_count": 1,
   "metadata": {},
   "outputs": [],
   "source": [
    "!pip freeze > requirements.txt"
   ]
  },
  {
   "cell_type": "code",
   "execution_count": null,
   "metadata": {},
   "outputs": [],
   "source": [
    "//*[@id=\"limit-list\"]/div/ul/li[1]/div[3]/p/a[1]"
   ]
  }
 ],
 "metadata": {
  "kernelspec": {
   "display_name": "Python 3",
   "language": "python",
   "name": "python3"
  },
  "language_info": {
   "codemirror_mode": {
    "name": "ipython",
    "version": 3
   },
   "file_extension": ".py",
   "mimetype": "text/x-python",
   "name": "python",
   "nbconvert_exporter": "python",
   "pygments_lexer": "ipython3",
   "version": "3.7.4"
  }
 },
 "nbformat": 4,
 "nbformat_minor": 1
}
